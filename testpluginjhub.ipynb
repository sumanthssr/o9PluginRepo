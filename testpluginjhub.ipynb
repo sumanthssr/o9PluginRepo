{
  "cells": [
    {
      "cell_type": "code",
      "execution_count": null,
      "id": "f51ade78-db56-486b-9953-42c379eba88a",
      "metadata": {
        "editable": false
      },
      "outputs": [],
      "source": [
        "# This cell is NOT editable. Overwrite variables on your own discretion.\n",
        "# Any changes other than the script code will NOT BE SAVED!\n",
        "# All cells are assumed to be script code cells, unless explictly tagged as 'o9_ignore'"
      ]
    },
    {
      "cell_type": "code",
      "execution_count": 39,
      "id": "bb1e2ae1-3dd6-4e94-8702-046369fcd9f5",
      "metadata": {
        "tags": [
          "o9_ignore"
        ]
      },
      "outputs": [
        {
          "name": "stdout",
          "output_type": "stream",
          "text": [
            "2024-12-04 11:17:48,439 - o9_logger - ERROR  - Output variable already exists.\n"
          ]
        }
      ],
      "source": [
        "_input_df = \"select (Version.[Version Name]*Product.[Product].Filter(#.Name in {[196426],[208821]})*Time.FiscalWeek*SalesAccount.[Account]*Location.[Location]*{Measure.[DPSellOutUnitsActuals],Measure.[Mean Pricing Save PCT],Measure.[Placement Count],Measure.[Promotion Count],Measure.[DPSellOutPrice]});\"\n",
        "_predict_df = \"select (Version.[Version Name]*Product.[Product].Filter(#.Name in {[196426],[208821]})*Time.FiscalWeek*SalesAccount.[Account]*Location.[Location]*{Measure.[DPSellOutUnitsActuals],Measure.[Mean Pricing Save PCT],Measure.[Placement Count],Measure.[Promotion Count],Measure.[DPSellOutPrice]});\"\n",
        "\n",
        "\n",
        "# Initialize the O9DataLake with the input parameters and dataframes\n",
        "# Data can be accessed with O9DataLake.get(<Input Name>)\n",
        "# Overwritten values will not be reflected in the O9DataLake after initialization\n",
        "\n",
        "from o9_common_utils.O9DataLake import O9DataLake, ResourceType, DataSource,PluginSetting\n",
        "input_df = O9DataLake.register(\"input_df\",data_source = DataSource.LS, entity_type = ResourceType.IBPL, query = _input_df,plugin_setting = PluginSetting.Inputs)\n",
        "predict_df = O9DataLake.register(\"predict_df\",data_source = DataSource.LS, entity_type = ResourceType.IBPL, query = _predict_df,plugin_setting = PluginSetting.Inputs)\n",
        "\n",
        "O9DataLake.register(\"out_df\",data_source = DataSource.LS,entity_type = ResourceType.IBPL,plugin_setting = PluginSetting.Outputs)\n",
        "script_params = O9DataLake.register({}, data_source = DataSource.LS,plugin_setting = PluginSetting.ScriptParam)"
      ]
    },
    {
      "cell_type": "code",
      "execution_count": 40,
      "id": "6051945c-376a-4d1f-bcdb-353a539979d9",
      "metadata": {},
      "outputs": [
        {
          "name": "stdout",
          "output_type": "stream",
          "text": [
            "2024-12-04 11:18:01,069 - o9_logger - INFO  - In User script\n",
            "2024-12-04 11:18:01,070 - o9_logger - INFO  - sys path\n",
            "2024-12-04 11:18:01,071 - o9_logger - INFO  - ['/root/o9plugins', '/opt/conda/envs/k8qa_sparkk8org1tenant1/lib/python310.zip', '/opt/conda/envs/k8qa_sparkk8org1tenant1/lib/python3.10', '/opt/conda/envs/k8qa_sparkk8org1tenant1/lib/python3.10/lib-dynload', '', '/opt/conda/envs/k8qa_sparkk8org1tenant1/lib/python3.10/site-packages', '/opt/conda/envs/k8qa_sparkk8org1tenant1/lib/python3.10/site-packages/sentencepiece-0.1.96-py3.10-linux-x86_64.egg']\n",
            "2024-12-04 11:18:01,072 - o9_logger - INFO  - Hello: We are in main script\n",
            "2024-12-04 11:18:01,072 - o9_logger - ERROR  - THIS IS TEST ERROR MESSAGE\n",
            "2024-12-04 11:18:01,072 - o9_logger - INFO  - THIS IS TEST INFO MESSAGE\n",
            "2024-12-04 11:18:01,073 - o9_logger - WARNING  - THIS IS TEST WARNING MESSAGE\n",
            "2024-12-04 11:18:01,073 - o9_logger - DEBUG  - THIS IS TEST DEBUG MESSAGE\n",
            "2024-12-04 11:18:01,097 - o9_logger - INFO  -      Time.[FiscalWeek]  Product.[Product] Version.[Version Name]  \\\n",
            "0             W02-2015             196426     CurrentWorkingView   \n",
            "1             W04-2015             196426     CurrentWorkingView   \n",
            "2             W05-2015             196426     CurrentWorkingView   \n",
            "3             W06-2015             196426     CurrentWorkingView   \n",
            "4             W07-2015             196426     CurrentWorkingView   \n",
            "...                ...                ...                    ...   \n",
            "4642          W47-2021             196426     CurrentWorkingView   \n",
            "4643          W48-2021             196426     CurrentWorkingView   \n",
            "4644          W49-2021             196426     CurrentWorkingView   \n",
            "4645          W50-2021             196426     CurrentWorkingView   \n",
            "4646          W51-2021             196426     CurrentWorkingView   \n",
            "\n",
            "     SalesAccount.[Account] Location.[Location]  DPSellOutUnitsFcst  \n",
            "0                Customer_1             Store_1              101.94  \n",
            "1                Customer_1             Store_1              101.60  \n",
            "2                Customer_1             Store_1              100.50  \n",
            "3                Customer_1             Store_1              105.25  \n",
            "4                Customer_1             Store_1              103.75  \n",
            "...                     ...                 ...                 ...  \n",
            "4642                    ALL             Store_9              100.80  \n",
            "4643                    ALL             Store_9              100.60  \n",
            "4644                    ALL             Store_9              100.75  \n",
            "4645                    ALL             Store_9              103.50  \n",
            "4646                    ALL             Store_9              101.00  \n",
            "\n",
            "[4647 rows x 6 columns]\n",
            "2024-12-04 11:18:01,103 - o9_logger - INFO  - Ingesting output\n",
            "2024-12-04 11:18:01,103 - o9_logger - INFO  - Time.[FiscalWeek]          object\n",
            "Product.[Product]           int64\n",
            "Version.[Version Name]     object\n",
            "SalesAccount.[Account]     object\n",
            "Location.[Location]        object\n",
            "DPSellOutUnitsFcst        float64\n",
            "dtype: object\n",
            "2024-12-04 11:18:01,104 - o9_logger - INFO  - Plugin ends\n"
          ]
        },
        {
          "name": "stderr",
          "output_type": "stream",
          "text": [
            "/tmp/ipykernel_3025/1622607412.py:21: DeprecationWarning: The 'warn' method is deprecated, use 'warning' instead\n",
            "  logger.warn(\"THIS IS TEST WARNING MESSAGE\")\n"
          ]
        }
      ],
      "source": [
        "import logging\n",
        "import os\n",
        "from sklearn import tree\n",
        "logger = logging.getLogger('o9_logger')\n",
        "logger.info('In User script: Updated from jhub')\n",
        "out_df = None\n",
        "import logging\n",
        "import sys\n",
        "import time\n",
        "\n",
        "logger = logging.getLogger('o9_logger')\n",
        "logger.info(\"sys path\")\n",
        "logger.info(sys.path)\n",
        "import logging\n",
        "logger = logging.getLogger(\"o9_logger\")\n",
        "\n",
        "logger.info(\"Hello: We are in main script\")\n",
        "\n",
        "logger.error(\"THIS IS TEST ERROR MESSAGE\")\n",
        "logger.info(\"THIS IS TEST INFO MESSAGE\")\n",
        "logger.warn(\"THIS IS TEST WARNING MESSAGE\")\n",
        "logger.debug(\"THIS IS TEST DEBUG MESSAGE\")\n",
        "\n",
        "#logger.error(f'env var {os.environ}')\n",
        "\n",
        "#time.sleep(50)\n",
        "\n",
        "if predict_df is not None and len(predict_df.index) > 0:\n",
        "    x = input_df[['Mean Pricing Save PCT', 'Placement Count', 'Promotion Count', 'DPSellOutPrice']]\n",
        "    y = input_df[['DPSellOutUnitsActuals']]\n",
        "    x = x.fillna(0).values\n",
        "    y = y.fillna(0).values\n",
        "\n",
        "    clf = tree.DecisionTreeRegressor()\n",
        "    clf = clf.fit(x, y)\n",
        "\n",
        "    predict = predict_df[['Mean Pricing Save PCT', 'Placement Count', 'Promotion Count', 'DPSellOutPrice']].fillna(0).values\n",
        "    predict_values = clf.predict(predict)\n",
        "    predict_df[\"DPSellOutUnitsFcst\"] = predict_values\n",
        "    out_df=predict_df[['Time.[FiscalWeek]', 'Product.[Product]', 'Version.[Version Name]', 'SalesAccount.[Account]','Location.[Location]','DPSellOutUnitsFcst']]\n",
        "    logger.info(out_df)\n",
        "else:\n",
        "    out_df = None\n",
        "\n",
        "logger.info(\"Ingesting output\")\n",
        "logger.info(out_df.dtypes)\n",
        "logger.info(\"Plugin ends\")\n"
      ]
    },
    {
      "cell_type": "code",
      "execution_count": null,
      "id": "5d06b6f1-bd57-4137-a4b6-e4400c22c452",
      "metadata": {},
      "outputs": [],
      "source": []
    }
  ],
  "metadata": {
    "id": "b199a7a5-1e97-4a81-849c-f3459b690d9a",
    "kernelspec": {
      "display_name": "[SparkK8Org1Tenant1] Tenant Conda Environment",
      "language": "python",
      "name": "k8qa_sparkk8org1tenant1"
    },
    "language_info": {
      "codemirror_mode": {
        "name": "ipython",
        "version": 3
      },
      "file_extension": ".py",
      "mimetype": "text/x-python",
      "name": "python",
      "nbconvert_exporter": "python",
      "pygments_lexer": "ipython3",
      "version": "3.10.5"
    }
  },
  "nbformat": 4,
  "nbformat_minor": 5
}